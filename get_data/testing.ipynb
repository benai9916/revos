{
 "cells": [
  {
   "cell_type": "code",
   "execution_count": 15,
   "metadata": {},
   "outputs": [],
   "source": [
    "import pandas as pd\n",
    "import numpy as np\n",
    "import time\n",
    "\n",
    "pd.set_option('display.max_colwidth', 50)\n",
    "pd.options.display.max_columns = None"
   ]
  },
  {
   "cell_type": "code",
   "execution_count": 2,
   "metadata": {},
   "outputs": [],
   "source": [
    "cols = ['Unnamed: 0', 'index-pattern', 'type', 'updated_at', 'diff', 'objectId',\n",
    "       'schema', 'timestamp', 'user', 'latitude', 'longitude', 'vin',\n",
    "       'avg_speed', 'distance', 'duration', 'end_time', 'hard_acc_count',\n",
    "       'hard_brake_count', 'id', 'max_speed', 'over_speed_count', 'start_time',\n",
    "       'total_energy_consumed', 'user_id', 'vehicle_id', 'batteryVoltage',\n",
    "       'controllerTemperature', 'throttle', 'overVoltageLimit',\n",
    "       'underVoltageLimit', 'battery_current', 'battery_voltage',\n",
    "       'brake_regen_limit', 'brake_status', 'controller_status',\n",
    "       'controller_temperature', 'current_limit', 'eabs_status', 'elevation',\n",
    "       'gps_speed', 'mac_id', 'mode', 'motor_status', 'odometer',\n",
    "       'over_voltage_limit', 'overcurrent_status', 'overload_status',\n",
    "       'regen_braking_status', 'reverse_status', 'soft_lock_status',\n",
    "       'speed_limit', 'throttle_status', 'trip_id', 'wheel_rpm',\n",
    "       'anti_theft_status', 'charging_status', 'firmware_version', 'heading',\n",
    "       'headlight', 'hill_assist_status', 'left_indicator', 'parking_status',\n",
    "       'pickup_control_limit', 'right_indicator', 'speed',\n",
    "       'under_voltage_limit', 'xAcc', 'yAcc', 'zAcc',\n",
    "       'zero_throttle_regen_limit', 'antiTheftMode', 'antiTheftStatus',\n",
    "       'batteryCurrent', 'brakeRegenLimit', 'brakeStatus', 'chargingStatus',\n",
    "       'controllerStatus', 'currentLimit', 'eabsStatus', 'firmware',\n",
    "       'hillAssistStatus', 'leftIndicator', 'lockStatus', 'motorStatus',\n",
    "       'overCurrentStatus', 'overloadStatus', 'parkingStatus',\n",
    "       'pickupControlLimit', 'regenBrakingStatus', 'reverseStatus',\n",
    "       'rightIndicator', 'speedLimit', 'throttleStatus', 'tripId', 'wheelRpm',\n",
    "       'zeroThrottleRegenLimit', 'gpsSpeed', 'riderId', 'softLockStatus',\n",
    "       'data']"
   ]
  },
  {
   "cell_type": "code",
   "execution_count": 13,
   "metadata": {},
   "outputs": [
    {
     "ename": "NameError",
     "evalue": "name 'flip' is not defined",
     "output_type": "error",
     "traceback": [
      "\u001b[1;31m---------------------------------------------------------------------------\u001b[0m",
      "\u001b[1;31mNameError\u001b[0m                                 Traceback (most recent call last)",
      "\u001b[1;32m<ipython-input-13-98d88a2f2c3b>\u001b[0m in \u001b[0;36m<module>\u001b[1;34m\u001b[0m\n\u001b[0;32m      1\u001b[0m \u001b[1;33m\u001b[0m\u001b[0m\n\u001b[1;32m----> 2\u001b[1;33m \u001b[0mflip\u001b[0m \u001b[1;33m=\u001b[0m  \u001b[0mflip\u001b[0m\u001b[1;33m[\u001b[0m\u001b[1;33m[\u001b[0m\u001b[1;34m'tripId'\u001b[0m\u001b[1;33m,\u001b[0m\u001b[1;34m'vin'\u001b[0m\u001b[1;33m,\u001b[0m \u001b[1;34m'timestamp'\u001b[0m\u001b[1;33m,\u001b[0m \u001b[1;34m'relativeSOC'\u001b[0m\u001b[1;33m,\u001b[0m \u001b[1;34m'batteryVoltageAdc'\u001b[0m\u001b[1;33m,\u001b[0m \u001b[1;34m'gpsSpeed'\u001b[0m\u001b[1;33m,\u001b[0m \u001b[1;34m'ignition'\u001b[0m\u001b[1;33m,\u001b[0m \u001b[1;34m'latitude'\u001b[0m\u001b[1;33m,\u001b[0m \u001b[1;34m'longitude'\u001b[0m\u001b[1;33m,\u001b[0m \u001b[1;34m'ridingCurrent'\u001b[0m\u001b[1;33m,\u001b[0m\u001b[1;34m'chargeDischargeTimes'\u001b[0m\u001b[1;33m,\u001b[0m \u001b[1;34m'totalMilage'\u001b[0m\u001b[1;33m]\u001b[0m\u001b[1;33m]\u001b[0m\u001b[1;33m\u001b[0m\u001b[1;33m\u001b[0m\u001b[0m\n\u001b[0m",
      "\u001b[1;31mNameError\u001b[0m: name 'flip' is not defined"
     ]
    }
   ],
   "source": [
    "\n",
    "flip =  flip[['tripId','vin', 'timestamp', 'relativeSOC', 'batteryVoltageAdc', 'gpsSpeed', 'ignition', 'latitude', 'longitude', 'ridingCurrent','chargeDischargeTimes', 'totalMilage']]"
   ]
  },
  {
   "cell_type": "code",
   "execution_count": 30,
   "metadata": {},
   "outputs": [],
   "source": [
    "ha = pd.read_csv('datas/M22YCESD20J002042.csv')"
   ]
  },
  {
   "cell_type": "code",
   "execution_count": 31,
   "metadata": {},
   "outputs": [
    {
     "data": {
      "text/html": [
       "<div>\n",
       "<style scoped>\n",
       "    .dataframe tbody tr th:only-of-type {\n",
       "        vertical-align: middle;\n",
       "    }\n",
       "\n",
       "    .dataframe tbody tr th {\n",
       "        vertical-align: top;\n",
       "    }\n",
       "\n",
       "    .dataframe thead th {\n",
       "        text-align: right;\n",
       "    }\n",
       "</style>\n",
       "<table border=\"1\" class=\"dataframe\">\n",
       "  <thead>\n",
       "    <tr style=\"text-align: right;\">\n",
       "      <th></th>\n",
       "      <th>Unnamed: 0</th>\n",
       "      <th>batteryVoltageAdc</th>\n",
       "      <th>chargeDischargeTimes</th>\n",
       "      <th>gpsSpeed</th>\n",
       "      <th>ignition</th>\n",
       "      <th>latitude</th>\n",
       "      <th>longitude</th>\n",
       "      <th>relativeSOC</th>\n",
       "      <th>ridingCurrent</th>\n",
       "      <th>timestamp</th>\n",
       "      <th>totalMilage</th>\n",
       "      <th>tripId</th>\n",
       "      <th>vin</th>\n",
       "    </tr>\n",
       "  </thead>\n",
       "  <tbody>\n",
       "    <tr>\n",
       "      <th>0</th>\n",
       "      <td>_Hi7unQB1qrmE6RWgRfZ</td>\n",
       "      <td>52.23</td>\n",
       "      <td>65535.0</td>\n",
       "      <td>17.0</td>\n",
       "      <td>1.0</td>\n",
       "      <td>22.759241</td>\n",
       "      <td>75.870102</td>\n",
       "      <td>93.0</td>\n",
       "      <td>0.0</td>\n",
       "      <td>2020-09-23T11:31:24.741Z</td>\n",
       "      <td>0.0</td>\n",
       "      <td>1.600861e+12</td>\n",
       "      <td>M22YCESD20J002042</td>\n",
       "    </tr>\n",
       "    <tr>\n",
       "      <th>1</th>\n",
       "      <td>7Hi7unQB1qrmE6RWFxdz</td>\n",
       "      <td>52.41</td>\n",
       "      <td>65535.0</td>\n",
       "      <td>10.0</td>\n",
       "      <td>1.0</td>\n",
       "      <td>22.759469</td>\n",
       "      <td>75.870013</td>\n",
       "      <td>93.0</td>\n",
       "      <td>0.0</td>\n",
       "      <td>2020-09-23T11:30:57.502Z</td>\n",
       "      <td>0.0</td>\n",
       "      <td>1.600861e+12</td>\n",
       "      <td>M22YCESD20J002042</td>\n",
       "    </tr>\n",
       "    <tr>\n",
       "      <th>2</th>\n",
       "      <td>o3jEunQB1qrmE6RWlxms</td>\n",
       "      <td>52.64</td>\n",
       "      <td>NaN</td>\n",
       "      <td>NaN</td>\n",
       "      <td>0.0</td>\n",
       "      <td>NaN</td>\n",
       "      <td>NaN</td>\n",
       "      <td>255.0</td>\n",
       "      <td>NaN</td>\n",
       "      <td>2020-09-23T11:41:20.162Z</td>\n",
       "      <td>NaN</td>\n",
       "      <td>NaN</td>\n",
       "      <td>M22YCESD20J002042</td>\n",
       "    </tr>\n",
       "  </tbody>\n",
       "</table>\n",
       "</div>"
      ],
      "text/plain": [
       "             Unnamed: 0  batteryVoltageAdc  chargeDischargeTimes  gpsSpeed  \\\n",
       "0  _Hi7unQB1qrmE6RWgRfZ              52.23               65535.0      17.0   \n",
       "1  7Hi7unQB1qrmE6RWFxdz              52.41               65535.0      10.0   \n",
       "2  o3jEunQB1qrmE6RWlxms              52.64                   NaN       NaN   \n",
       "\n",
       "   ignition   latitude  longitude  relativeSOC  ridingCurrent  \\\n",
       "0       1.0  22.759241  75.870102         93.0            0.0   \n",
       "1       1.0  22.759469  75.870013         93.0            0.0   \n",
       "2       0.0        NaN        NaN        255.0            NaN   \n",
       "\n",
       "                  timestamp  totalMilage        tripId                vin  \n",
       "0  2020-09-23T11:31:24.741Z          0.0  1.600861e+12  M22YCESD20J002042  \n",
       "1  2020-09-23T11:30:57.502Z          0.0  1.600861e+12  M22YCESD20J002042  \n",
       "2  2020-09-23T11:41:20.162Z          NaN           NaN  M22YCESD20J002042  "
      ]
     },
     "execution_count": 31,
     "metadata": {},
     "output_type": "execute_result"
    }
   ],
   "source": [
    "ha.head(3)"
   ]
  },
  {
   "cell_type": "code",
   "execution_count": 32,
   "metadata": {},
   "outputs": [
    {
     "data": {
      "text/plain": [
       "(40000, 13)"
      ]
     },
     "execution_count": 32,
     "metadata": {},
     "output_type": "execute_result"
    }
   ],
   "source": [
    "ha.shape"
   ]
  },
  {
   "cell_type": "code",
   "execution_count": null,
   "metadata": {},
   "outputs": [],
   "source": []
  }
 ],
 "metadata": {
  "kernelspec": {
   "display_name": "Python 3",
   "language": "python",
   "name": "python3"
  },
  "language_info": {
   "codemirror_mode": {
    "name": "ipython",
    "version": 3
   },
   "file_extension": ".py",
   "mimetype": "text/x-python",
   "name": "python",
   "nbconvert_exporter": "python",
   "pygments_lexer": "ipython3",
   "version": "3.7.6"
  }
 },
 "nbformat": 4,
 "nbformat_minor": 4
}
