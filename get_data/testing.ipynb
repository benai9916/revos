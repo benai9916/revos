{
 "cells": [
  {
   "cell_type": "code",
   "execution_count": 4,
   "metadata": {},
   "outputs": [],
   "source": [
    "import pandas as pd\n",
    "import numpy as np\n",
    "import time"
   ]
  },
  {
   "cell_type": "code",
   "execution_count": 12,
   "metadata": {},
   "outputs": [
    {
     "name": "stdout",
     "output_type": "stream",
     "text": [
      "0.04097342491149902\n"
     ]
    }
   ],
   "source": [
    "start = time.time()\n",
    "df = pd.read_csv('exp.csv')\n",
    "end = time.time() - start\n",
    "print(end)"
   ]
  },
  {
   "cell_type": "code",
   "execution_count": 13,
   "metadata": {},
   "outputs": [
    {
     "data": {
      "text/html": [
       "<div>\n",
       "<style scoped>\n",
       "    .dataframe tbody tr th:only-of-type {\n",
       "        vertical-align: middle;\n",
       "    }\n",
       "\n",
       "    .dataframe tbody tr th {\n",
       "        vertical-align: top;\n",
       "    }\n",
       "\n",
       "    .dataframe thead th {\n",
       "        text-align: right;\n",
       "    }\n",
       "</style>\n",
       "<table border=\"1\" class=\"dataframe\">\n",
       "  <thead>\n",
       "    <tr style=\"text-align: right;\">\n",
       "      <th></th>\n",
       "      <th>Unnamed: 0</th>\n",
       "      <th>batteryCurrent</th>\n",
       "      <th>batteryVoltage</th>\n",
       "      <th>latitude</th>\n",
       "      <th>longitude</th>\n",
       "      <th>overVoltageLimit</th>\n",
       "      <th>throttle</th>\n",
       "      <th>timestamp</th>\n",
       "      <th>tripId</th>\n",
       "      <th>type</th>\n",
       "      <th>underVoltageLimit</th>\n",
       "      <th>vin</th>\n",
       "      <th>wheelRpm</th>\n",
       "    </tr>\n",
       "  </thead>\n",
       "  <tbody>\n",
       "    <tr>\n",
       "      <th>15</th>\n",
       "      <td>W3hCwHQB1qrmE6RWiuZk</td>\n",
       "      <td>1.44</td>\n",
       "      <td>66.81</td>\n",
       "      <td>12.916069</td>\n",
       "      <td>77.626158</td>\n",
       "      <td>75.0</td>\n",
       "      <td>100.0</td>\n",
       "      <td>1.600953e+12</td>\n",
       "      <td>39</td>\n",
       "      <td>1</td>\n",
       "      <td>42.0</td>\n",
       "      <td>OKLA_OFFICE_WHITE</td>\n",
       "      <td>582.0</td>\n",
       "    </tr>\n",
       "    <tr>\n",
       "      <th>16</th>\n",
       "      <td>XXhCwHQB1qrmE6RWiuZl</td>\n",
       "      <td>0.00</td>\n",
       "      <td>67.04</td>\n",
       "      <td>12.916072</td>\n",
       "      <td>77.626160</td>\n",
       "      <td>75.0</td>\n",
       "      <td>0.0</td>\n",
       "      <td>1.600953e+12</td>\n",
       "      <td>39</td>\n",
       "      <td>1</td>\n",
       "      <td>42.0</td>\n",
       "      <td>OKLA_OFFICE_WHITE</td>\n",
       "      <td>105.0</td>\n",
       "    </tr>\n",
       "    <tr>\n",
       "      <th>17</th>\n",
       "      <td>QHhCwHQB1qrmE6RWO-a0</td>\n",
       "      <td>0.00</td>\n",
       "      <td>67.04</td>\n",
       "      <td>12.916064</td>\n",
       "      <td>77.626151</td>\n",
       "      <td>75.0</td>\n",
       "      <td>0.0</td>\n",
       "      <td>1.600953e+12</td>\n",
       "      <td>39</td>\n",
       "      <td>1</td>\n",
       "      <td>42.0</td>\n",
       "      <td>OKLA_OFFICE_WHITE</td>\n",
       "      <td>0.0</td>\n",
       "    </tr>\n",
       "    <tr>\n",
       "      <th>18</th>\n",
       "      <td>SHhCwHQB1qrmE6RWO-a9</td>\n",
       "      <td>0.00</td>\n",
       "      <td>67.04</td>\n",
       "      <td>12.916064</td>\n",
       "      <td>77.626151</td>\n",
       "      <td>75.0</td>\n",
       "      <td>0.0</td>\n",
       "      <td>1.600953e+12</td>\n",
       "      <td>39</td>\n",
       "      <td>1</td>\n",
       "      <td>42.0</td>\n",
       "      <td>OKLA_OFFICE_WHITE</td>\n",
       "      <td>0.0</td>\n",
       "    </tr>\n",
       "    <tr>\n",
       "      <th>19</th>\n",
       "      <td>TnhCwHQB1qrmE6RWYub8</td>\n",
       "      <td>3.96</td>\n",
       "      <td>66.35</td>\n",
       "      <td>12.916069</td>\n",
       "      <td>77.626158</td>\n",
       "      <td>75.0</td>\n",
       "      <td>95.0</td>\n",
       "      <td>1.600953e+12</td>\n",
       "      <td>39</td>\n",
       "      <td>1</td>\n",
       "      <td>42.0</td>\n",
       "      <td>OKLA_OFFICE_WHITE</td>\n",
       "      <td>94.0</td>\n",
       "    </tr>\n",
       "  </tbody>\n",
       "</table>\n",
       "</div>"
      ],
      "text/plain": [
       "              Unnamed: 0  batteryCurrent  batteryVoltage   latitude  \\\n",
       "15  W3hCwHQB1qrmE6RWiuZk            1.44           66.81  12.916069   \n",
       "16  XXhCwHQB1qrmE6RWiuZl            0.00           67.04  12.916072   \n",
       "17  QHhCwHQB1qrmE6RWO-a0            0.00           67.04  12.916064   \n",
       "18  SHhCwHQB1qrmE6RWO-a9            0.00           67.04  12.916064   \n",
       "19  TnhCwHQB1qrmE6RWYub8            3.96           66.35  12.916069   \n",
       "\n",
       "    longitude  overVoltageLimit  throttle     timestamp  tripId  type  \\\n",
       "15  77.626158              75.0     100.0  1.600953e+12      39     1   \n",
       "16  77.626160              75.0       0.0  1.600953e+12      39     1   \n",
       "17  77.626151              75.0       0.0  1.600953e+12      39     1   \n",
       "18  77.626151              75.0       0.0  1.600953e+12      39     1   \n",
       "19  77.626158              75.0      95.0  1.600953e+12      39     1   \n",
       "\n",
       "    underVoltageLimit                vin  wheelRpm  \n",
       "15               42.0  OKLA_OFFICE_WHITE     582.0  \n",
       "16               42.0  OKLA_OFFICE_WHITE     105.0  \n",
       "17               42.0  OKLA_OFFICE_WHITE       0.0  \n",
       "18               42.0  OKLA_OFFICE_WHITE       0.0  \n",
       "19               42.0  OKLA_OFFICE_WHITE      94.0  "
      ]
     },
     "execution_count": 13,
     "metadata": {},
     "output_type": "execute_result"
    }
   ],
   "source": [
    "df.tail()"
   ]
  },
  {
   "cell_type": "code",
   "execution_count": 14,
   "metadata": {},
   "outputs": [
    {
     "data": {
      "text/plain": [
       "(20, 13)"
      ]
     },
     "execution_count": 14,
     "metadata": {},
     "output_type": "execute_result"
    }
   ],
   "source": [
    "df.shape"
   ]
  },
  {
   "cell_type": "code",
   "execution_count": 120,
   "metadata": {},
   "outputs": [
    {
     "data": {
      "text/plain": [
       "404"
      ]
     },
     "execution_count": 120,
     "metadata": {},
     "output_type": "execute_result"
    }
   ],
   "source": [
    "df['tripId'].nunique()"
   ]
  },
  {
   "cell_type": "code",
   "execution_count": 27,
   "metadata": {},
   "outputs": [],
   "source": [
    "cols = ['Unnamed: 0', 'index-pattern', 'type', 'updated_at', 'diff', 'objectId',\n",
    "       'schema', 'timestamp', 'user', 'latitude', 'longitude', 'vin',\n",
    "       'avg_speed', 'distance', 'duration', 'end_time', 'hard_acc_count',\n",
    "       'hard_brake_count', 'id', 'max_speed', 'over_speed_count', 'start_time',\n",
    "       'total_energy_consumed', 'user_id', 'vehicle_id', 'batteryVoltage',\n",
    "       'controllerTemperature', 'throttle', 'overVoltageLimit',\n",
    "       'underVoltageLimit', 'battery_current', 'battery_voltage',\n",
    "       'brake_regen_limit', 'brake_status', 'controller_status',\n",
    "       'controller_temperature', 'current_limit', 'eabs_status', 'elevation',\n",
    "       'gps_speed', 'mac_id', 'mode', 'motor_status', 'odometer',\n",
    "       'over_voltage_limit', 'overcurrent_status', 'overload_status',\n",
    "       'regen_braking_status', 'reverse_status', 'soft_lock_status',\n",
    "       'speed_limit', 'throttle_status', 'trip_id', 'wheel_rpm',\n",
    "       'anti_theft_status', 'charging_status', 'firmware_version', 'heading',\n",
    "       'headlight', 'hill_assist_status', 'left_indicator', 'parking_status',\n",
    "       'pickup_control_limit', 'right_indicator', 'speed',\n",
    "       'under_voltage_limit', 'xAcc', 'yAcc', 'zAcc',\n",
    "       'zero_throttle_regen_limit', 'antiTheftMode', 'antiTheftStatus',\n",
    "       'batteryCurrent', 'brakeRegenLimit', 'brakeStatus', 'chargingStatus',\n",
    "       'controllerStatus', 'currentLimit', 'eabsStatus', 'firmware',\n",
    "       'hillAssistStatus', 'leftIndicator', 'lockStatus', 'motorStatus',\n",
    "       'overCurrentStatus', 'overloadStatus', 'parkingStatus',\n",
    "       'pickupControlLimit', 'regenBrakingStatus', 'reverseStatus',\n",
    "       'rightIndicator', 'speedLimit', 'throttleStatus', 'tripId', 'wheelRpm',\n",
    "       'zeroThrottleRegenLimit', 'gpsSpeed', 'riderId', 'softLockStatus',\n",
    "       'data']"
   ]
  },
  {
   "cell_type": "code",
   "execution_count": 90,
   "metadata": {},
   "outputs": [
    {
     "data": {
      "text/plain": [
       "True"
      ]
     },
     "execution_count": 90,
     "metadata": {},
     "output_type": "execute_result"
    }
   ],
   "source": [
    "'batteryCurrent' in cols"
   ]
  },
  {
   "cell_type": "code",
   "execution_count": 110,
   "metadata": {},
   "outputs": [
    {
     "name": "stdout",
     "output_type": "stream",
     "text": [
      "24.0\n",
      "6.0\n",
      "3.0\n",
      "division by zero\n"
     ]
    }
   ],
   "source": [
    "a =  [1,4,8,0,4]\n",
    "\n",
    "try:\n",
    "    for i in a:\n",
    "        c = 24 / i\n",
    "        print(c)\n",
    "except Exception as e :\n",
    "        print(e)"
   ]
  },
  {
   "cell_type": "code",
   "execution_count": null,
   "metadata": {},
   "outputs": [],
   "source": []
  }
 ],
 "metadata": {
  "kernelspec": {
   "display_name": "Python 3",
   "language": "python",
   "name": "python3"
  },
  "language_info": {
   "codemirror_mode": {
    "name": "ipython",
    "version": 3
   },
   "file_extension": ".py",
   "mimetype": "text/x-python",
   "name": "python",
   "nbconvert_exporter": "python",
   "pygments_lexer": "ipython3",
   "version": "3.7.6"
  }
 },
 "nbformat": 4,
 "nbformat_minor": 4
}
